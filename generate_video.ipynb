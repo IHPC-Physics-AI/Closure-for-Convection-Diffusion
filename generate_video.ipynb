{
  "cells": [
    {
      "cell_type": "code",
      "execution_count": null,
      "metadata": {
        "colab": {
          "base_uri": "https://localhost:8080/"
        },
        "id": "bxOwpvDdKNTZ",
        "outputId": "f072c1b1-9a02-4379-e46f-6c011740a616"
      },
      "outputs": [
        {
          "name": "stdout",
          "output_type": "stream",
          "text": [
            "Drive already mounted at /content/drive; to attempt to forcibly remount, call drive.mount(\"/content/drive\", force_remount=True).\n"
          ]
        }
      ],
      "source": [
        "from google.colab import drive\n",
        "drive.mount('/content/drive')\n",
        "\n",
        "import sys\n",
        "dir = '/content/drive/MyDrive/ARIA'\n",
        "sys.path.append(dir)\n",
        "\n",
        "import os\n",
        "import time"
      ]
    },
    {
      "cell_type": "code",
      "execution_count": null,
      "metadata": {
        "colab": {
          "base_uri": "https://localhost:8080/"
        },
        "id": "DVx-JWkFLEpC",
        "outputId": "565cb129-221b-4cb8-82c3-a938691f97ac"
      },
      "outputs": [
        {
          "name": "stdout",
          "output_type": "stream",
          "text": [
            "Requirement already satisfied: matplotlib==3.7.0 in /usr/local/lib/python3.11/dist-packages (3.7.0)\n",
            "Requirement already satisfied: contourpy>=1.0.1 in /usr/local/lib/python3.11/dist-packages (from matplotlib==3.7.0) (1.3.3)\n",
            "Requirement already satisfied: cycler>=0.10 in /usr/local/lib/python3.11/dist-packages (from matplotlib==3.7.0) (0.12.1)\n",
            "Requirement already satisfied: fonttools>=4.22.0 in /usr/local/lib/python3.11/dist-packages (from matplotlib==3.7.0) (4.59.0)\n",
            "Requirement already satisfied: kiwisolver>=1.0.1 in /usr/local/lib/python3.11/dist-packages (from matplotlib==3.7.0) (1.4.8)\n",
            "Requirement already satisfied: numpy>=1.20 in /usr/local/lib/python3.11/dist-packages (from matplotlib==3.7.0) (1.26.4)\n",
            "Requirement already satisfied: packaging>=20.0 in /usr/local/lib/python3.11/dist-packages (from matplotlib==3.7.0) (25.0)\n",
            "Requirement already satisfied: pillow>=6.2.0 in /usr/local/lib/python3.11/dist-packages (from matplotlib==3.7.0) (11.3.0)\n",
            "Requirement already satisfied: pyparsing>=2.3.1 in /usr/local/lib/python3.11/dist-packages (from matplotlib==3.7.0) (3.2.3)\n",
            "Requirement already satisfied: python-dateutil>=2.7 in /usr/local/lib/python3.11/dist-packages (from matplotlib==3.7.0) (2.9.0.post0)\n",
            "Requirement already satisfied: six>=1.5 in /usr/local/lib/python3.11/dist-packages (from python-dateutil>=2.7->matplotlib==3.7.0) (1.17.0)\n",
            "Requirement already satisfied: numpy==1.26.4 in /usr/local/lib/python3.11/dist-packages (1.26.4)\n"
          ]
        }
      ],
      "source": [
        "%pip install matplotlib==3.7.0\n",
        "%pip install numpy==1.26.4"
      ]
    },
    {
      "cell_type": "code",
      "execution_count": null,
      "metadata": {
        "colab": {
          "background_save": true,
          "base_uri": "https://localhost:8080/"
        },
        "id": "yMKZx5uvJcCg",
        "outputId": "d7abc74a-9ac4-468f-8d76-ff9d5ec8c210"
      },
      "outputs": [
        {
          "name": "stderr",
          "output_type": "stream",
          "text": [
            "/tmp/ipython-input-3177728821.py:129: DeprecationWarning: The binary mode of fromstring is deprecated, as it behaves surprisingly on unicode inputs. Use frombuffer instead\n",
            "  img = np.fromstring(fig.canvas.tostring_rgb(), dtype=np.uint8, sep='')\n"
          ]
        },
        {
          "name": "stdout",
          "output_type": "stream",
          "text": [
            "Video generated successfully: /content/drive/MyDrive/ARIA/videos/22072025_26C8_set1/videos/22072025_[13  3]_trainfull.mp4\n",
            "Video generated successfully: /content/drive/MyDrive/ARIA/videos/22072025_26C8_set1/videos/22072025_[6 8]_test.mp4\n",
            "Video generated successfully: /content/drive/MyDrive/ARIA/videos/22072025_26C8_set1/videos/22072025_[ 6 15]_trainfull.mp4\n",
            "Video generated successfully: /content/drive/MyDrive/ARIA/videos/22072025_26C8_set1/videos/22072025_[13 20]_test.mp4\n",
            "Video generated successfully: /content/drive/MyDrive/ARIA/videos/22072025_26C8_set1/videos/22072025_[23 21]_trainfull.mp4\n",
            "Video generated successfully: /content/drive/MyDrive/ARIA/videos/22072025_26C8_set1/videos/22072025_[10 31]_trainfull.mp4\n",
            "Video generated successfully: /content/drive/MyDrive/ARIA/videos/22072025_26C8_set1/videos/22072025_[13 40]_trainfull.mp4\n",
            "Video generated successfully: /content/drive/MyDrive/ARIA/videos/22072025_26C8_set1/videos/22072025_[13 45]_trainfull.mp4\n",
            "Video generated successfully: /content/drive/MyDrive/ARIA/videos/22072025_26C8_set1/videos/22072025_[17 32]_train.mp4\n",
            "Video generated successfully: /content/drive/MyDrive/ARIA/videos/22072025_26C8_set1/videos/22072025_[ 4 40]_test.mp4\n",
            "Video generated successfully: /content/drive/MyDrive/ARIA/videos/22072025_26C8_set1/videos/22072025_[13 25]_train.mp4\n",
            "Video generated successfully: /content/drive/MyDrive/ARIA/videos/22072025_26C8_set1/videos/22072025_[15 22]_trainfull.mp4\n",
            "Video generated successfully: /content/drive/MyDrive/ARIA/videos/22072025_26C8_set1/videos/22072025_[13 15]_train.mp4\n",
            "Video generated successfully: /content/drive/MyDrive/ARIA/videos/22072025_26C8_set1/videos/22072025_[16  8]_trainfull.mp4\n",
            "Video generated successfully: /content/drive/MyDrive/ARIA/videos/22072025_26C8_set1/videos/22072025_[8 3]_trainfull.mp4\n",
            "Video generated successfully: /content/drive/MyDrive/ARIA/videos/22072025_26C8_set1/videos/22072025_[3 7]_trainfull.mp4\n",
            "Video generated successfully: /content/drive/MyDrive/ARIA/videos/22072025_26C8_set1/videos/22072025_[12 10]_train.mp4\n",
            "Video generated successfully: /content/drive/MyDrive/ARIA/videos/22072025_26C8_set1/videos/22072025_[17 17]_trainfull.mp4\n",
            "Video generated successfully: /content/drive/MyDrive/ARIA/videos/22072025_26C8_set1/videos/22072025_[19 26]_test.mp4\n",
            "Video generated successfully: /content/drive/MyDrive/ARIA/videos/22072025_26C8_set1/videos/22072025_[ 2 34]_train.mp4\n",
            "Video generated successfully: /content/drive/MyDrive/ARIA/videos/22072025_26C8_set1/videos/22072025_[12 34]_test.mp4\n",
            "Video generated successfully: /content/drive/MyDrive/ARIA/videos/22072025_26C8_set1/videos/22072025_[ 8 37]_trainfull.mp4\n",
            "Video generated successfully: /content/drive/MyDrive/ARIA/videos/22072025_26C8_set1/videos/22072025_[10 44]_test.mp4\n",
            "Video generated successfully: /content/drive/MyDrive/ARIA/videos/22072025_26C8_set1/videos/22072025_[ 4 45]_train.mp4\n",
            "Video generated successfully: /content/drive/MyDrive/ARIA/videos/22072025_26C8_set1/videos/22072025_[ 9 22]_test.mp4\n",
            "Video generated successfully: /content/drive/MyDrive/ARIA/videos/22072025_26C8_set1/videos/22072025_[16 24]_train.mp4\n",
            "Video generated successfully: /content/drive/MyDrive/ARIA/videos/22072025_26C8_set1/videos/22072025_[ 6 41]_test.mp4\n",
            "Video generated successfully: /content/drive/MyDrive/ARIA/videos/22072025_26C8_set1/videos/22072025_[ 9 34]_test.mp4\n",
            "Video generated successfully: /content/drive/MyDrive/ARIA/videos/22072025_26C8_set1/videos/22072025_[ 9 14]_test.mp4\n",
            "Video generated successfully: /content/drive/MyDrive/ARIA/videos/22072025_26C8_set1/videos/22072025_[14 36]_test.mp4\n",
            "Video generated successfully: /content/drive/MyDrive/ARIA/videos/22072025_26C8_set1/videos/22072025_[11  2]_test.mp4\n",
            "Video generated successfully: /content/drive/MyDrive/ARIA/videos/22072025_26C8_set1/videos/22072025_[14 31]_test.mp4\n",
            "Video generated successfully: /content/drive/MyDrive/ARIA/videos/22072025_26C8_set1/videos/22072025_[ 5 36]_test.mp4\n",
            "Video generated successfully: /content/drive/MyDrive/ARIA/videos/22072025_26C8_set1/videos/22072025_[23 25]_test.mp4\n",
            "Video generated successfully: /content/drive/MyDrive/ARIA/videos/22072025_26C8_set1/videos/22072025_[14 28]_test.mp4\n",
            "Video generated successfully: /content/drive/MyDrive/ARIA/videos/22072025_26C8_set1/videos/22072025_[22 19]_test.mp4\n",
            "Video generated successfully: /content/drive/MyDrive/ARIA/videos/22072025_26C8_set1/videos/22072025_[15 37]_test.mp4\n",
            "Video generated successfully: /content/drive/MyDrive/ARIA/videos/22072025_26C8_set1/videos/22072025_[10  6]_trainfull.mp4\n",
            "Video generated successfully: /content/drive/MyDrive/ARIA/videos/22072025_26C8_set1/videos/22072025_[17  5]_train.mp4\n",
            "Video generated successfully: /content/drive/MyDrive/ARIA/videos/22072025_26C8_set1/videos/22072025_[17 12]_test.mp4\n",
            "Video generated successfully: /content/drive/MyDrive/ARIA/videos/22072025_26C8_set1/videos/22072025_[14 42]_test.mp4\n",
            "Video generated successfully: /content/drive/MyDrive/ARIA/videos/22072025_26C8_set1/videos/22072025_[5 4]_trainfull.mp4\n",
            "Video generated successfully: /content/drive/MyDrive/ARIA/videos/22072025_26C8_set1/videos/22072025_[ 3 17]_trainfull.mp4\n",
            "Video generated successfully: /content/drive/MyDrive/ARIA/videos/22072025_26C8_set1/videos/22072025_[ 9 18]_trainfull.mp4\n",
            "Video generated successfully: /content/drive/MyDrive/ARIA/videos/22072025_26C8_set1/videos/22072025_[10 38]_test.mp4\n",
            "Video generated successfully: /content/drive/MyDrive/ARIA/videos/22072025_26C8_set1/videos/22072025_[4 5]_test.mp4\n",
            "Video generated successfully: /content/drive/MyDrive/ARIA/videos/22072025_26C8_set1/videos/22072025_[14 13]_test.mp4\n",
            "Video generated successfully: /content/drive/MyDrive/ARIA/videos/22072025_26C8_set1/videos/22072025_[ 9 29]_test.mp4\n",
            "Video generated successfully: /content/drive/MyDrive/ARIA/videos/22072025_26C8_set1/videos/22072025_[13  6]_test.mp4\n",
            "Video generated successfully: /content/drive/MyDrive/ARIA/videos/22072025_26C8_set1/videos/22072025_[ 6 46]_trainfull.mp4\n",
            "Video generated successfully: /content/drive/MyDrive/ARIA/videos/22072025_26C8_set1/videos/22072025_[14 18]_trainfull.mp4\n",
            "Video generated successfully: /content/drive/MyDrive/ARIA/videos/22072025_26C8_set1/videos/22072025_[17 19]_test.mp4\n",
            "Video generated successfully: /content/drive/MyDrive/ARIA/videos/22072025_26C8_set1/videos/22072025_[4 1]_test.mp4\n"
          ]
        }
      ],
      "source": [
        "import numpy as np\n",
        "import jax\n",
        "from jax import numpy as jnp\n",
        "import matplotlib\n",
        "matplotlib.use('Agg')\n",
        "import matplotlib.pyplot as plt\n",
        "import pickle\n",
        "\n",
        "import cv2\n",
        "import os\n",
        "\n",
        "dx, dy = 0.5, 0.5\n",
        "ny, nx = 26, 49\n",
        "dt = 0.4\n",
        "\n",
        "with open(f'{dir}/dataset/dataset_v2.pickle', 'rb') as handle:\n",
        "  dataset = pickle.load(handle)\n",
        "\n",
        "train_set = list(range(len(dataset['INFLOW_LOCS'])))\n",
        "\n",
        "INFLOW_LOCS = dataset['INFLOW_LOCS'][train_set,]\n",
        "FLOW_TIMES = [jnp.array(dataset['FLOW_TIMES'][i]) for i in train_set]\n",
        "SMOKE_FIELD = [jnp.array(dataset['SMOKE_FIELD'][i]) for i in train_set]\n",
        "VELOCITY = dataset['VELOCITY']\n",
        "REL_LOC = dataset['rel_loc']\n",
        "TERRAIN = dataset['TERRAIN']\n",
        "SPLINE_TCK = [dataset['SPLINE_TCK'][i] for i in train_set]\n",
        "\n",
        "train_set = [0, 2, 4, 5, 6, 7, 8, 10, 12, 13, 15, 17, 19, 21, 23, 11, 14, 16, 25, 37, 38, 41, 42, 43, 49, 50]\n",
        "train_subset = [8, 10, 12, 16, 19, 23, 25, 38]\n",
        "# train_set = [6, 12, 8, 21,  2,  7, 15, 17, 10, 19, 23, 13]\n",
        "\n",
        "for set_idx in range(len(INFLOW_LOCS)): #len(INFLOW_LOCS)\n",
        "    with open(f'{dir}/videos/22072025_{INFLOW_LOCS[set_idx]}_smoke.pickle', 'rb') as bunch:\n",
        "        smoke = pickle.load(bunch)\n",
        "    with open(f'{dir}/videos/22072025_{INFLOW_LOCS[set_idx]}_advection.pickle', 'rb') as bunch:\n",
        "        advection_terms = pickle.load(bunch)\n",
        "    with open(f'{dir}/videos/22072025_{INFLOW_LOCS[set_idx]}_diffusion.pickle', 'rb') as bunch:\n",
        "        diffusion_terms = pickle.load(bunch)\n",
        "    with open(f'{dir}/videos/22072025_{INFLOW_LOCS[set_idx]}_closure.pickle', 'rb') as bunch:\n",
        "        closure_terms = pickle.load(bunch)\n",
        "    with open(f'{dir}/videos/22072025_{INFLOW_LOCS[set_idx]}_relerror.pickle', 'rb') as bunch:\n",
        "        error_terms = pickle.load(bunch)\n",
        "    with open(f'{dir}/videos/22072025_{INFLOW_LOCS[set_idx]}_inflow.pickle', 'rb') as bunch:\n",
        "        inflow_terms = pickle.load(bunch)\n",
        "\n",
        "\n",
        "    # Output video parameters\n",
        "    if set_idx in train_subset:\n",
        "        output_filename = f'{dir}/videos/22072025_{INFLOW_LOCS[set_idx]}_train.mp4'\n",
        "    elif set_idx in train_set:\n",
        "        output_filename = f'{dir}/videos/22072025_{INFLOW_LOCS[set_idx]}_trainfull.mp4'\n",
        "    else:\n",
        "        output_filename = f'{dir}/videos/22072025_{INFLOW_LOCS[set_idx]}_test.mp4'\n",
        "    frame_width, frame_height = 960, 240\n",
        "    fps = 25\n",
        "\n",
        "    # Create a VideoWriter object\n",
        "    fourcc = cv2.VideoWriter_fourcc(*'mp4v')\n",
        "    out = cv2.VideoWriter(output_filename, fourcc, fps, (frame_width, frame_height))\n",
        "\n",
        "    # Generate frames\n",
        "    frame_index = 1\n",
        "    for i in range(len(smoke)):\n",
        "        fig, axs = plt.subplots(2, 4, figsize=(20, 5))\n",
        "\n",
        "        # Plot each array in its respective subplot\n",
        "        temp = smoke[i]\n",
        "        temp = jnp.where(TERRAIN==1.0, temp, jnp.nan)\n",
        "        im1 = axs[0,0].imshow(temp, origin='lower')\n",
        "        axs[0,0].set_title('Smoke')\n",
        "        fig.colorbar(im1, ax=axs[0,0],fraction=0.046, pad=0.04)\n",
        "\n",
        "        temp = advection_terms[i]\n",
        "        temp = jnp.where(TERRAIN==1.0, temp, jnp.nan)\n",
        "        im2 = axs[0,1].imshow(temp, origin='lower')\n",
        "        axs[0,1].set_title('Advection')\n",
        "        fig.colorbar(im2, ax=axs[0,1],fraction=0.046, pad=0.04)\n",
        "\n",
        "        temp = diffusion_terms[i]\n",
        "        temp = jnp.where(TERRAIN==1.0, temp, jnp.nan)\n",
        "        im3 = axs[1,0].imshow(temp, origin='lower')\n",
        "        axs[1,0].set_title('Diffusion')\n",
        "        fig.colorbar(im3, ax=axs[1,0],fraction=0.046, pad=0.04)\n",
        "\n",
        "        temp = closure_terms[i].squeeze()\n",
        "        temp = jnp.where(TERRAIN==1.0, temp, jnp.nan)\n",
        "        im4 = axs[1,1].imshow(temp, origin='lower')\n",
        "        axs[1,1].set_title('Closure')\n",
        "        fig.colorbar(im4, ax=axs[1,1],fraction=0.046, pad=0.04)\n",
        "\n",
        "        temp = error_terms[i]\n",
        "        temp = jnp.where(TERRAIN==1.0, temp, jnp.nan)\n",
        "        im5 = axs[0,2].imshow(temp, origin='lower')\n",
        "        axs[0,2].set_title('Relative Error')\n",
        "        fig.colorbar(im5, ax=axs[0,2],fraction=0.046, pad=0.04)\n",
        "\n",
        "        temp = inflow_terms[i]\n",
        "        temp = jnp.where(TERRAIN==1.0, temp, jnp.nan)\n",
        "        im6 = axs[1,2].imshow(temp, origin='lower')\n",
        "        axs[1,2].set_title('Inflow')\n",
        "        fig.colorbar(im6, ax=axs[1,2],fraction=0.046, pad=0.04)\n",
        "\n",
        "        temp = jnp.log10(jnp.maximum(smoke[i],1e-12))\n",
        "        temp = jnp.where(TERRAIN==1.0, temp, jnp.nan)\n",
        "        im7 = axs[0,3].imshow(temp, vmin=-8, vmax=-4, origin='lower')\n",
        "        axs[0,3].set_title(f'Smoke, t={\"%.2f\" % (i*dt)} (log scale)')\n",
        "        fig.colorbar(im7, ax=axs[0,3],fraction=0.046, pad=0.04)\n",
        "\n",
        "        # next time\n",
        "        temp = np.log10(SMOKE_FIELD[set_idx][frame_index]+1e-12)\n",
        "        temp = jnp.where(TERRAIN==1.0, temp, jnp.nan)\n",
        "        im8 = axs[1,3].imshow(temp, vmin=-8, vmax=-4, origin='lower')\n",
        "        axs[1,3].set_title(f'Desired Smoke, t={\"%.2f\" %FLOW_TIMES[set_idx][frame_index]} (log scale)')\n",
        "        fig.colorbar(im8, ax=axs[1,3],fraction=0.046, pad=0.04)\n",
        "\n",
        "        if (i+1)*dt>FLOW_TIMES[set_idx][frame_index]:\n",
        "            frame_index+=1\n",
        "\n",
        "        # Remove axes for cleaner look\n",
        "        for ax in axs.flatten():\n",
        "            ax.axis('off')\n",
        "\n",
        "        # Save the figure to a temporary file\n",
        "        # plt.tight_layout()\n",
        "        # plt.savefig('frame.png')\n",
        "        # plt.close(fig)\n",
        "        fig.canvas.draw()\n",
        "        img = np.fromstring(fig.canvas.tostring_rgb(), dtype=np.uint8, sep='')\n",
        "        img  = img.reshape(fig.canvas.get_width_height()[::-1] + (3,))\n",
        "        frame = cv2.cvtColor(img,cv2.COLOR_RGB2BGR)\n",
        "        plt.close('all')\n",
        "        # Read the image and resize it\n",
        "        # frame = cv2.imread('frame.png')\n",
        "        frame = cv2.resize(frame, (frame_width, frame_height))\n",
        "\n",
        "        # Write the frame to the video\n",
        "        out.write(frame)\n",
        "\n",
        "    # Clean up\n",
        "    out.release()\n",
        "    plt.close('all')\n",
        "\n",
        "    print(\"Video generated successfully:\", output_filename)"
      ]
    },
    {
      "cell_type": "code",
      "execution_count": null,
      "metadata": {
        "colab": {
          "background_save": true
        },
        "id": "dxlGUK6uKSG3"
      },
      "outputs": [],
      "source": []
    }
  ],
  "metadata": {
    "colab": {
      "provenance": []
    },
    "kernelspec": {
      "display_name": "Python 3",
      "name": "python3"
    },
    "language_info": {
      "name": "python"
    }
  },
  "nbformat": 4,
  "nbformat_minor": 0
}
